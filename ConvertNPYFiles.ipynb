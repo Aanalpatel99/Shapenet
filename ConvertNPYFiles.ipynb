{
 "cells": [
  {
   "cell_type": "code",
   "execution_count": null,
   "metadata": {
    "vscode": {
     "languageId": "plaintext"
    }
   },
   "outputs": [],
   "source": [
    "def get_png_files(data_path, recursive=True):\n",
    "    \n",
    "    # Retrieve PNG files from the data path\n",
    "    png_files = [file for file in glob.glob(data_path + r\"\\**\\*.png\", recursive=recursive)]\n",
    "    print(f\"Found {len(png_files)} PNG files.\")\n",
    "    return png_files\n",
    "\n",
    "def save_npy_array_from_png(png_files, image_shape, save_npy=True, npy_filename='images'):\n",
    "    \n",
    "    # Loop through the PNG files and initialize an empty array that will contain np arrays\n",
    "    print(\"Starting pipeline...\")\n",
    "    np_arrays = []\n",
    "    curr_progress, prev_progress = 0.0, -0.5\n",
    "    for i, png_file in enumerate(png_files):\n",
    "\n",
    "        # Open the image and convert into grayscale\n",
    "        img = Image.open(png_file)\n",
    "        img_gray = img.convert(\"L\")\n",
    "        \n",
    "        # Resize the image to the desired shape and into a numpy array\n",
    "        img_resized = img_gray.resize(image_shape)\n",
    "        img_array = np.array(img_resized)\n",
    "        \n",
    "        # Reshape the array to (image shape, 1)\n",
    "        new_shape = tuple(list(image_shape) + [1])\n",
    "        img_array = img_array.reshape(new_shape)\n",
    "        np_arrays.append(img_array)\n",
    "        \n",
    "        # Print progress, but not on every loop\n",
    "        curr_progress = round(100 * (i+1) / len(png_files), 2)\n",
    "        if (curr_progress - prev_progress) >= 0.5:\n",
    "            prev_progress = float(curr_progress)\n",
    "            print(f\"{curr_progress}%\", end=\" \")\n",
    "            if curr_progress != 0.0 and curr_progress % 10.0 == 0:\n",
    "                print(f\"({i+1} files done)\")\n",
    "    \n",
    "    # Save the voxel matrix as an NPY file\n",
    "    np_arrays_stacked = np.stack(tuple(np_arrays), axis=0)\n",
    "    print(f\"\\nFinal NumPy array shape: {np_arrays_stacked.shape}\")\n",
    "    \n",
    "    # Save the NumPy array as an NPY file if specified, otherwise, return the array\n",
    "    if save_npy:\n",
    "        np.save(npy_filename + \".npy\", np_arrays_stacked)\n",
    "        return None\n",
    "    return np_arrays_stacked\n",
    "\n",
    "def save_npy_array_from_png_per_category(data_path, image_shape):\n",
    "    \n",
    "    # Get the category names\n",
    "    categories = get_category_names(data_path)\n",
    "    print(f\"Found {len(categories)} categories.\")\n",
    "\n",
    "    # Loop through the categories\n",
    "    for i, category in enumerate(categories):\n",
    "        print(f\"================ Starting process for category #{i+1}, name: {category} ================\")\n",
    "\n",
    "        # Set the category data path and retrieve all images in PNG format\n",
    "        category_path = data_path + '\\\\' + category\n",
    "        png_files = get_png_files(category_path, recursive=True)\n",
    "        \n",
    "        # Fixing the image files order due to naming error during generation, now files are in proper id order\n",
    "        png_files = list(sorted(png_files, key=lambda x: int(x.split('\\\\')[-1].split('_')[2])))\n",
    "\n",
    "        # Convert PNG files into Numpy arrays\n",
    "        save_npy_array_from_png(png_files, image_shape, save_npy=True, npy_filename=category+\"_images\")\n",
    "\n",
    "# Read all images, convert them into a proper format, and save them into a Numpy array\n",
    "data_path = r\"C:\\Users\\aanal\\Documents\\sem3\\nureal_network_and_deep_learning\\Project\\op\"\n",
    "save_npy_array_from_png_per_category(data_path, (128, 128))"
   ]
  },
  {
   "cell_type": "code",
   "execution_count": null,
   "metadata": {
    "vscode": {
     "languageId": "plaintext"
    }
   },
   "outputs": [],
   "source": []
  }
 ],
 "metadata": {
  "language_info": {
   "name": "python"
  }
 },
 "nbformat": 4,
 "nbformat_minor": 2
}
