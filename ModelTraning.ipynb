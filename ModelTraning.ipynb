{
 "cells": [
  {
   "cell_type": "code",
   "execution_count": null,
   "metadata": {
    "vscode": {
     "languageId": "plaintext"
    }
   },
   "outputs": [],
   "source": [
    "from tensorflow.keras import layers, models\n",
    "\n",
    "def build_cnn_model(input_shape, output_shape):\n",
    "    \n",
    "    # Building CNN: encoder (2D Convolutions to process 2D images)\n",
    "    model = models.Sequential()\n",
    "    model.add(layers.Input(shape=input_shape))\n",
    "    model.add(layers.Conv2D(64, (3, 3), activation='relu', padding='same'))\n",
    "    model.add(layers.MaxPooling2D((2, 2), padding='same'))\n",
    "    model.add(layers.Conv2D(128, (3, 3), activation='relu', padding='same'))\n",
    "    model.add(layers.MaxPooling2D((2, 2), padding='same'))\n",
    "    model.add(layers.Conv2D(256, (3, 3), activation='relu', padding='same'))\n",
    "    model.add(layers.MaxPooling2D((2, 2), padding='same'))\n",
    "    \n",
    "    # Add a flatten and dense layers to create bottleneck (latent) representation\n",
    "    model.add(layers.Flatten())\n",
    "    model.add(layers.Dense(4 * 4 * 4 * 64, activation='relu'))\n",
    "\n",
    "    # Reshape to 3D for the decoder\n",
    "    model.add(layers.Reshape((4, 4, 4, 64)))\n",
    "    \n",
    "    # Decoder (3D Convolutions to generate voxel grid)\n",
    "    model.add(layers.Conv3DTranspose(64, (3, 3, 3), strides=(2, 2, 2), padding='same', activation='relu'))\n",
    "    model.add(layers.Conv3DTranspose(32, (3, 3, 3), strides=(2, 2, 2), padding='same', activation='relu'))\n",
    "    model.add(layers.Conv3DTranspose(16, (3, 3, 3), strides=(2, 2, 2), padding='same', activation='relu'))\n",
    "    model.add(layers.Conv3D(1, (3, 3, 3), activation='sigmoid', padding='same'))  # Sigmoid for binary voxel grid\n",
    "\n",
    "    return model\n",
    "\n",
    "# Define the input and output shapes, then instantiate and compile the model\n",
    "input_shape = (128, 128, 1)\n",
    "output_shape = (32, 32, 32, 1)\n",
    "model = build_cnn_model(input_shape, output_shape)\n",
    "model.compile(optimizer='adam', loss='binary_crossentropy', metrics=['accuracy'])"
   ]
  },
  {
   "cell_type": "code",
   "execution_count": null,
   "metadata": {
    "vscode": {
     "languageId": "plaintext"
    }
   },
   "outputs": [],
   "source": [
    "# Load your 2D images and 3D voxel grids from the saved .npy files\n",
    "images = np.load('02691156_images.npy')\n",
    "voxel_grids = np.load('02691156_voxels.npy')\n",
    "\n",
    "print(f\"Shape of the images data: {images.shape}\")\n",
    "print(f\"Shape of the voxel grids data: {voxel_grids.shape}\")\n",
    "\n",
    "# Training the model\n",
    "model_history = model.fit(images, voxel_grids, epochs=10, batch_size=16, validation_split=0.1)"
   ]
  },
  {
   "cell_type": "code",
   "execution_count": null,
   "metadata": {
    "vscode": {
     "languageId": "plaintext"
    }
   },
   "outputs": [],
   "source": [
    "model.summary()"
   ]
  },
  {
   "cell_type": "code",
   "execution_count": null,
   "metadata": {
    "vscode": {
     "languageId": "plaintext"
    }
   },
   "outputs": [],
   "source": [
    "print(model.metrics_names)\n",
    "model_history.history"
   ]
  },
  {
   "cell_type": "code",
   "execution_count": null,
   "metadata": {
    "vscode": {
     "languageId": "plaintext"
    }
   },
   "outputs": [],
   "source": [
    "# Save the paths of the testing image into a list\n",
    "DATA_PATH = \".\"\n",
    "png_file = get_png_files(DATA_PATH, recursive=False)\n",
    "\n",
    "# Convert a single testing image into NPY\n",
    "save_npy_array_from_png(png_files[1], (128, 128), npy_filename='test_image')"
   ]
  },
  {
   "cell_type": "code",
   "execution_count": null,
   "metadata": {
    "vscode": {
     "languageId": "plaintext"
    }
   },
   "outputs": [],
   "source": [
    "# Load the image and reshape adding a batch dimension for prediction\n",
    "image_npy = np.load('02691156_images.npy')[1114]\n",
    "image_npy = image_npy.reshape(1, 128, 128, 1)\n",
    "\n",
    "# Make a Prediction and remove batch channel from prediction\n",
    "predicted_voxel = model.predict(image_npy)\n",
    "predicted_voxel = predicted_voxel[0, :, :, :, 0]\n",
    "\n",
    "# Convert the voxel grid to a binary format (can modify threshold)\n",
    "predicted_voxel_binary = (predicted_voxel > 0.5).astype(np.uint8)"
   ]
  },
  {
   "cell_type": "code",
   "execution_count": null,
   "metadata": {
    "vscode": {
     "languageId": "plaintext"
    }
   },
   "outputs": [],
   "source": [
    "def save_voxel_grid_to_obj(voxel_grid, obj_filename):\n",
    "    # Vertices and faces for an individual cube (each voxel)\n",
    "    vertex_offsets = [\n",
    "        (0, 0, 0), (1, 0, 0), (1, 1, 0), (0, 1, 0),\n",
    "        (0, 0, 1), (1, 0, 1), (1, 1, 1), (0, 1, 1)\n",
    "    ]\n",
    "    \n",
    "    face_offsets = [\n",
    "        (0, 1, 2, 3), # Bottom\n",
    "        (4, 5, 6, 7), # Top\n",
    "        (0, 1, 5, 4), # Front\n",
    "        (2, 3, 7, 6), # Back\n",
    "        (1, 2, 6, 5), # Right\n",
    "        (3, 0, 4, 7)  # Left\n",
    "    ]\n",
    "\n",
    "    vertices = []\n",
    "    faces = []\n",
    "    vertex_index = 1\n",
    "\n",
    "    # Iterate through the 3D array and process each voxel\n",
    "    for x in range(voxel_grid.shape[0]):\n",
    "        for y in range(voxel_grid.shape[1]):\n",
    "            for z in range(voxel_grid.shape[2]):\n",
    "                if voxel_grid[x, y, z] == 1:  # Only process occupied voxels (value 1)\n",
    "                    # Add vertices for this voxel's cube\n",
    "                    for dx, dy, dz in vertex_offsets:\n",
    "                        vertices.append((x + dx, y + dy, z + dz))\n",
    "\n",
    "                    # Add faces using the latest 8 vertices\n",
    "                    for face in face_offsets:\n",
    "                        faces.append((\n",
    "                            vertex_index + face[0],\n",
    "                            vertex_index + face[1],\n",
    "                            vertex_index + face[2],\n",
    "                            vertex_index + face[3]\n",
    "                        ))\n",
    "\n",
    "                    # Update the vertex index\n",
    "                    vertex_index += 8\n",
    "\n",
    "    # Write vertices and faces to an OBJ file\n",
    "    with open(obj_filename, 'w') as obj_file:\n",
    "        for vertex in vertices:\n",
    "            obj_file.write(f\"v {vertex[0]} {vertex[1]} {vertex[2]}\\n\")\n",
    "        for face in faces:\n",
    "            obj_file.write(f\"f {face[0]} {face[1]} {face[2]} {face[3]}\\n\")\n",
    "\n",
    "\n",
    "# Save the voxel grid to an OBJ file\n",
    "save_voxel_grid_to_obj(predicted_voxel_binary, 'test_voxel.obj')"
   ]
  },
  {
   "cell_type": "code",
   "execution_count": null,
   "metadata": {
    "vscode": {
     "languageId": "plaintext"
    }
   },
   "outputs": [],
   "source": []
  }
 ],
 "metadata": {
  "language_info": {
   "name": "python"
  }
 },
 "nbformat": 4,
 "nbformat_minor": 2
}
